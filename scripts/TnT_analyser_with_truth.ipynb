{
 "cells": [
  {
   "cell_type": "code",
   "execution_count": 42,
   "id": "ecf99277",
   "metadata": {},
   "outputs": [],
   "source": [
    "import pandas as pd\n",
    "import numpy as np\n",
    "import networkx as nx\n",
    "import matplotlib as mpl\n",
    "import matplotlib.pyplot as plt\n",
    "from networkx.drawing.nx_agraph import graphviz_layout\n",
    "import pymc3 as pm"
   ]
  },
  {
   "cell_type": "code",
   "execution_count": 43,
   "id": "d17a73b5",
   "metadata": {},
   "outputs": [],
   "source": [
    "# Add truth idicator to edges\n",
    "# Add how many intermediates for indirect\n",
    "\n",
    "# Add hpd for num unobserved:\n",
    "# import arviz as az\n",
    "# az.hdi(val)\n",
    "# val = n_unobserved_transmissions.loc[:,\"12_24\"].values\n",
    "# val = val[~np.isnan(val)]\n"
   ]
  },
  {
   "cell_type": "code",
   "execution_count": 105,
   "id": "8eca4a38",
   "metadata": {},
   "outputs": [],
   "source": [
    "DECIMAL_PRECISION = 2\n",
    "PROBABILITY_THRESHOLD = 0.2\n",
    "INPUT_FOLDER_PATH = '/Users/jugne/Documents/Source/TnT/validation/mapper/testing/remap/run_11/'\n",
    "FILE_NAME = 'inf_SW_EC_remap_tr_analyser'\n",
    "OUTPUT_FOLDER_PATH = '/Users/jugne/Documents/Source/TnT/validation/mapper/testing/remap/run_11/out/'\n"
   ]
  },
  {
   "cell_type": "code",
   "execution_count": 108,
   "id": "bccb12d6",
   "metadata": {},
   "outputs": [],
   "source": [
    "from pathlib import Path\n",
    "Path(OUTPUT_FOLDER_PATH).mkdir(parents=True, exist_ok=True)"
   ]
  },
  {
   "cell_type": "code",
   "execution_count": 45,
   "id": "cf27a9db",
   "metadata": {},
   "outputs": [],
   "source": [
    "tnt_analyser = pd.read_csv(FOLDER_NAME+FILE_NAME+\".txt\",\n",
    "                          sep=\"\\t\")\n",
    "sim_truth_file = FOLDER_NAME+\"trees_and_pars.txt\"\n",
    "# tnt_analyser.head()"
   ]
  },
  {
   "cell_type": "code",
   "execution_count": 46,
   "id": "3bc5f523",
   "metadata": {},
   "outputs": [],
   "source": [
    "# host list\n",
    "hosts = np.unique([i.split('_', 1)[0] for i in tnt_analyser.columns])"
   ]
  },
  {
   "cell_type": "code",
   "execution_count": 47,
   "id": "dcf89f58",
   "metadata": {},
   "outputs": [],
   "source": [
    "def lines_that_start_with(string, fp):\n",
    "    return [line for line in fp if line.startswith(string)]\n",
    "\n",
    "lookup_start = 'transmission times'\n",
    "lookup_end = 'SA count'\n",
    "start = False\n",
    "end = False\n",
    "from_=[]\n",
    "to_=[]\n",
    "time_=[]\n",
    "with open(sim_truth_file) as simFile:\n",
    "    for line in simFile:\n",
    "        if lookup_end in line:\n",
    "            end = True\n",
    "        if start and not end:\n",
    "            pair = line.rstrip().split(':')[0]\n",
    "            from_.append(pair.split('_')[0])\n",
    "            to_.append(pair.split('_')[1])\n",
    "            time_.append(line.rstrip().split(':')[1])\n",
    "#             lines.append(line.rstrip())\n",
    "        if lookup_start in line:\n",
    "            start = True\n",
    "        \n",
    "df_sim = pd.DataFrame({'from':from_, 'to':to_, 'time':time_})"
   ]
  },
  {
   "cell_type": "code",
   "execution_count": 48,
   "id": "5f7822f5",
   "metadata": {},
   "outputs": [],
   "source": [
    "# get direct transmission pairs that were sampled\n",
    "from_=[]\n",
    "to_=[]\n",
    "tr_times_in_sampled_hosts = []\n",
    "tr_times_in_sampled = []\n",
    "for index in df_sim.index:\n",
    "    from_val = df_sim.loc[index,'from']\n",
    "    to_val = df_sim.loc[index,'to']\n",
    "    if to_val in hosts:\n",
    "        tr_times_in_sampled_hosts.append(to_val)\n",
    "        tr_times_in_sampled.append(df_sim.loc[index,'time'])\n",
    "        if from_val in hosts:\n",
    "            from_.append(from_val)\n",
    "            to_.append(to_val)\n",
    "\n",
    "df_direct_tr_in_sampled = pd.DataFrame({'from':from_, 'to':to_})\n",
    "df_tr_times_in_sampled = pd.DataFrame({'host':tr_times_in_sampled_hosts, 'time':tr_times_in_sampled})"
   ]
  },
  {
   "cell_type": "code",
   "execution_count": 152,
   "id": "8f1cd40c",
   "metadata": {},
   "outputs": [],
   "source": [
    "# get indirect transmission pairs that were sampled\n",
    "dict_to = dict(zip(df_sim['to'], df_sim['from']))\n",
    "from_=[]\n",
    "to_=[]\n",
    "n_intermediate_=[]\n",
    "intermediate_=[]\n",
    "source=''\n",
    "# root = ''\n",
    "for h in hosts:\n",
    "    n_int = 0\n",
    "    if h=='unsampled':\n",
    "        continue\n",
    "    sink = h\n",
    "    tmp_intermediate=[]\n",
    "    \n",
    "    if not h in df_direct_tr_in_sampled['to'].values:\n",
    "        source = dict_to.get(sink)\n",
    "        while not source in df_direct_tr_in_sampled['to'].values:\n",
    "            if source not in dict_to.keys(): #or n_int >= hosts.size:\n",
    "                source = 'unsampled'\n",
    "#               root=source\n",
    "                break\n",
    "            sink = source\n",
    "            source = dict_to.get(sink) \n",
    "            n_int+=1 \n",
    "            tmp_intermediate.append(sink)\n",
    "\n",
    "        from_.append(source)\n",
    "        to_.append(h)\n",
    "        n_intermediate_.append(n_int)\n",
    "        intermediate_.append(tmp_intermediate)\n",
    "\n",
    "intermediate_ = [' '.join(str(y) for y in x) for x in intermediate_]\n",
    "df_indirect_tr_in_sampled = pd.DataFrame({'from':from_,\n",
    "                                          'to':to_,\n",
    "                                          'intermediate':intermediate_, \n",
    "                                          'n_intermediate':n_intermediate_})\n",
    "                "
   ]
  },
  {
   "cell_type": "code",
   "execution_count": 153,
   "id": "034672f5",
   "metadata": {},
   "outputs": [],
   "source": [
    "##############################################\n",
    "####### save true transmission history #######\n",
    "##############################################\n",
    "df_indirect_tr_in_sampled.to_csv(OUTPUT_FOLDER_PATH+'indirect_sampled_transmission.csv')\n",
    "df_direct_tr_in_sampled.to_csv(OUTPUT_FOLDER_PATH+'direct_sampled_transmission.csv')"
   ]
  },
  {
   "cell_type": "code",
   "execution_count": 129,
   "id": "c29f0301",
   "metadata": {},
   "outputs": [],
   "source": [
    "###################################################################\n",
    "####### get probabilities of diferent kinds of transmission #######\n",
    "###################################################################\n",
    "\n",
    "\n",
    "# prob of direct transmission:\n",
    "dd = tnt_analyser.loc[:,:]==1\n",
    "prob_direct = dd.sum()/dd.shape[0]\n",
    "\n",
    "# prob of indirect or direct transmission:\n",
    "dd = tnt_analyser.loc[:,:]>=1\n",
    "prob_indirectAndDirect = dd.sum()/dd.shape[0]\n",
    "\n",
    "# prob of indirect transmission:\n",
    "dd = tnt_analyser.loc[:,:]>1\n",
    "prob_indirect = dd.sum()/dd.shape[0]\n",
    "\n",
    "# prob of no transmission:\n",
    "dd = tnt_analyser.loc[:,:]==0\n",
    "prob_noTr = dd.sum()/dd.shape[0]\n",
    "\n",
    "# count intermediate unobserved transmissions\n",
    "n_unobserved_transmissions = tnt_analyser[tnt_analyser.loc[:,:]>=1]-1"
   ]
  },
  {
   "cell_type": "code",
   "execution_count": 145,
   "id": "8c649f50",
   "metadata": {},
   "outputs": [],
   "source": [
    "##########################################\n",
    "####### indirect dataframes ##############\n",
    "##########################################\n",
    "names_indirect = tnt_analyser.columns[prob_indirect>0]\n",
    "from_indirect = [i.split('_', 1)[0] for i in names_indirect]\n",
    "to_indirect = [i.split('_', 1)[1] for i in names_indirect]\n",
    "\n",
    "edges_indirect = pd.DataFrame({'from': from_indirect, \n",
    "                               'to': to_indirect, \n",
    "                               'probability': prob_indirect[prob_indirect>0],\n",
    "                               'median_unobserved': n_unobserved_transmissions.loc[:,names_indirect].median()})\n",
    "nodes_indirect = pd.DataFrame({'id': np.unique([i.split('_', 1)[0] for i in from_indirect+to_indirect])})\n",
    "\n",
    "# add edge labels, set precision\n",
    "edges_indirect.loc[:, 'label'] = np.around(edges_indirect.loc[:, 'probability'],\n",
    "                                           decimals=DECIMAL_PRECISION).astype(str)\n",
    "\n",
    "###################################\n",
    "######## direct dataframes ########\n",
    "###################################\n",
    "names_direct = tnt_analyser.columns[prob_direct>0]\n",
    "from_direct = [i.split('_', 1)[0] for i in names_direct]\n",
    "to_direct = [i.split('_', 1)[1] for i in names_direct]\n",
    "\n",
    "edges_direct = pd.DataFrame({'from': from_direct, \n",
    "                             'to': to_direct, \n",
    "                             'probability': prob_direct[prob_direct>0]})\n",
    "nodes_direct = pd.DataFrame({'id': np.unique([i.split('_', 1)[0] for i in from_direct+to_direct])})\n",
    "\n",
    "# add edge labels, set precision\n",
    "edges_direct.loc[:, 'label'] = np.around(edges_direct.loc[:, 'probability'],\n",
    "                                         decimals=DECIMAL_PRECISION).astype(str)\n",
    "\n",
    "###############################################################\n",
    "######### direct and indirect transmission dataframes #########\n",
    "###############################################################\n",
    "names_indirectAndDirect = tnt_analyser.columns[prob_indirectAndDirect>0]\n",
    "from_indirectAndDirect = [i.split('_', 1)[0] for i in names_indirectAndDirect]\n",
    "to_indirectAndDirect = [i.split('_', 1)[1] for i in names_indirectAndDirect]\n",
    "\n",
    "inf_intermediates = []\n",
    "for name in names_indirectAndDirect:\n",
    "    inf_intermediates.append(n_unobserved_transmissions[n_unobserved_transmissions[name].notnull()][name].values)\n",
    "inf_intermediates = [' '.join(str(y) for y in x) for x in inf_intermediates]\n",
    "    \n",
    "edges_indirectAndDirect = pd.DataFrame({'from': from_indirectAndDirect, \n",
    "                                        'to': to_indirectAndDirect, \n",
    "                                        'probability': prob_indirectAndDirect[prob_indirectAndDirect>0],\n",
    "                                        'n_unobserved':inf_intermediates,\n",
    "                                        'median_unobserved': np.nan_to_num(n_unobserved_transmissions.loc[:,names_indirectAndDirect].median())})\n",
    "nodes_indirectAndDirect = pd.DataFrame({'id': np.unique([i.split('_', 1)[0] for i in from_indirectAndDirect+to_indirectAndDirect])})\n",
    "\n",
    "# add edge labels, set precision\n",
    "edges_indirectAndDirect.loc[:, 'label'] = np.around(edges_indirectAndDirect.loc[:, 'probability'],\n",
    "                                                    decimals=DECIMAL_PRECISION).astype(str)\n",
    "\n",
    "# calculate root probability\n",
    "root = [1-edges_indirectAndDirect.loc[edges_indirectAndDirect.loc[:,'to']==h,'probability'].sum() for h in nodes_indirectAndDirect['id']]\n",
    "nodes_indirectAndDirect.loc[:, 'root_probability'] = np.around(root, decimals=3)"
   ]
  },
  {
   "cell_type": "code",
   "execution_count": 149,
   "id": "59cecb5d",
   "metadata": {},
   "outputs": [],
   "source": [
    "##################################################\n",
    "####### save inferred transmission history #######\n",
    "##################################################\n",
    "edges_indirectAndDirect.to_csv(OUTPUT_FOLDER_PATH+'inferred_transmission.csv')\n",
    "\n",
    "# n_unobserved_transmissions.loc[:,names_indirectAndDirect].to_csv(OUTPUT_FOLDER_PATH+'n_unobserved_transmissions.csv')"
   ]
  },
  {
   "cell_type": "code",
   "execution_count": 150,
   "id": "0c0bf7b8",
   "metadata": {},
   "outputs": [],
   "source": [
    "# Apply probability treshold fo inclusion in the graph\n",
    "edges_indirectAndDirect_trh = edges_indirectAndDirect[edges_indirectAndDirect.probability > PROBABILITY_THRESHOLD]\n",
    "\n",
    "# Build your graph. Note that we use the DiGraph function to create the graph!\n",
    "G=nx.from_pandas_edgelist(edges_indirectAndDirect_trh, 'from', 'to',  ['probability', 'median_unobserved'], create_using=nx.DiGraph())\n",
    "# colors = [nodes_indirectAndDirect[nodes_indirectAndDirect['id']==i]['root_probability'].item() for i in list(G.nodes)]\n",
    "# col = [\"None\" if x <=0 else x for x in [np.around((i * 10)-1) for i in colors]]\n",
    "\n",
    "# Node colors by root probability\n",
    "cmap = mpl.cm.get_cmap(\"Greens\")\n",
    "node_col = dict(zip(nodes_indirectAndDirect.id, nodes_indirectAndDirect.root_probability))\n",
    "for key, value in node_col.items():\n",
    "            rgba = cmap(value)\n",
    "            node_col[key] = mpl.colors.rgb2hex(rgba)\n",
    "\n",
    "\n",
    "nx.set_node_attributes(G,\n",
    "                       node_col,\n",
    "                       \"fillcolor\")\n",
    "\n",
    "# set edge width by transmission probability\n",
    "nx.set_edge_attributes(G,\n",
    "                       nx.get_edge_attributes(G, 'probability'),\n",
    "                       \"penwidth\")\n",
    "\n",
    "# merge transmission probability and mean intermediate transmissions for edge labels\n",
    "dct_rounded_probs = {k: round(v, DECIMAL_PRECISION) for k, v in nx.get_edge_attributes(G, 'probability').items()} \n",
    "dct_rounded_unobserved_count = {k: round(v, DECIMAL_PRECISION) for k, v in nx.get_edge_attributes(G, 'median_unobserved').items()}\n",
    "dct_label = {k: str(dct_rounded_probs[k])+', '+str(dct_rounded_unobserved_count[k]) for k in nx.get_edge_attributes(G, 'probability').keys()}\n",
    "\n",
    "nx.set_edge_attributes(G,\n",
    "                       dct_label,\n",
    "                       \"label\")\n",
    "\n",
    "# fig, ax = plt.subplots(figsize=(15,10))\n",
    "# # Make the graph\n",
    "# nx.draw(G,ax=ax, with_labels=True, \n",
    "#         pos=graphviz_layout(G,prog=\"dot\", args='-Grankdir=LR'),#pos=nx.spiral_layout(G, equidistant=True, resolution=0.8),#pos=nx.spring_layout(G, k=20/np.sqrt(G.order())),\n",
    "#         node_color=[nodes_indirectAndDirect[nodes_indirectAndDirect['id']==i]['root_probability'] for i in list(G.nodes)],\n",
    "#         cmap=plt.get_cmap(\"Greens\"), node_size=1500, node_shape='H', alpha=0.6, arrows=True, connectionstyle='Angle3')\n",
    "\n",
    "\n",
    "\n",
    "# plt.title(\"Directed\")\n",
    "# plt.show()"
   ]
  },
  {
   "cell_type": "code",
   "execution_count": 151,
   "id": "2b421bda",
   "metadata": {},
   "outputs": [],
   "source": [
    "A = nx.nx_agraph.to_agraph(G)\n",
    "A.layout(prog='dot')   \n",
    "A.draw(OUTPUT_FOLDER_PATH+FILE_NAME+'.png',args='-Grankdir=LR -Gsplines=true -Goverlap=\"false\" -Nshape=hexagon -Nstyle=filled', prog='dot' ) \n",
    "\n",
    "# A.draw('test3.png',args='-Gnodesep=0.01 -Gfont_size=1', prog='dot' ) \n",
    "# plt.show() "
   ]
  },
  {
   "cell_type": "code",
   "execution_count": 84,
   "id": "9e0a8073",
   "metadata": {},
   "outputs": [],
   "source": [
    "# from jaal import Jaal\n",
    "# Jaal(edges_indirectAndDirect, nodes_indirectAndDirect).plot(directed=True)"
   ]
  },
  {
   "cell_type": "code",
   "execution_count": 91,
   "id": "2ed1c7cd",
   "metadata": {},
   "outputs": [
    {
     "data": {
      "image/png": "[encoded data removed]",
      "text/plain": [
       "<Figure size 432x288 with 1 Axes>"
      ]
     },
     "metadata": {
      "needs_background": "light"
     },
     "output_type": "display_data"
    }
   ],
   "source": [
    "import matplotlib as plt\n",
    "a = [1,3,5,7]\n",
    "b = [11,-2,4,19]\n",
    "plt.pyplot.scatter(a,b)\n",
    "# plt.scatter(a,b)\n",
    "# <matplotlib.collections.PathCollection object at 0x00000000057E2CF8>\n",
    "# plt.pyplot.show()\n",
    "c = [1,3,2,1]\n",
    "plt.pyplot.errorbar(a,b,yerr=c, linestyle=\"None\")\n",
    "# <Container object of 3 artists>\n",
    "plt.pyplot.show()"
   ]
  },
  {
   "cell_type": "code",
   "execution_count": 26,
   "id": "c84e2ffa",
   "metadata": {},
   "outputs": [],
   "source": []
  },
  {
   "cell_type": "code",
   "execution_count": null,
   "id": "1410d6af",
   "metadata": {},
   "outputs": [],
   "source": []
  }
 ],
 "metadata": {
  "kernelspec": {
   "display_name": "Python 3 (ipykernel)",
   "language": "python",
   "name": "python3"
  },
  "language_info": {
   "codemirror_mode": {
    "name": "ipython",
    "version": 3
   },
   "file_extension": ".py",
   "mimetype": "text/x-python",
   "name": "python",
   "nbconvert_exporter": "python",
   "pygments_lexer": "ipython3",
   "version": "3.8.9"
  }
 },
 "nbformat": 4,
 "nbformat_minor": 5
}
